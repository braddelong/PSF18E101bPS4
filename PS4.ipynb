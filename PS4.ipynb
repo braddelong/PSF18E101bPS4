{
 "cells": [
  {
   "cell_type": "markdown",
   "metadata": {
    "slideshow": {
     "slide_type": "notes"
    }
   },
   "source": [
    "# Econ 101b (Fall 2018) Problem Set 4"
   ]
  },
  {
   "cell_type": "markdown",
   "metadata": {},
   "source": [
    "### Problem set will be due Wed Sep 12 at midnight...\n",
    "\n",
    "#### Sections between Th AM & Tu AM lecture will be problem set section..."
   ]
  },
  {
   "cell_type": "markdown",
   "metadata": {},
   "source": [
    "## Setting up the Python/Jupyter environment"
   ]
  },
  {
   "cell_type": "code",
   "execution_count": 1,
   "metadata": {},
   "outputs": [
    {
     "data": {
      "application/javascript": [
       "\n",
       "IPython.OutputArea.prototype._should_scroll = function(lines) {\n",
       "    return false;}"
      ],
      "text/plain": [
       "<IPython.core.display.Javascript object>"
      ]
     },
     "metadata": {},
     "output_type": "display_data"
    }
   ],
   "source": [
    "%%javascript\n",
    "\n",
    "IPython.OutputArea.prototype._should_scroll = function(lines) {\n",
    "    return false;}"
   ]
  },
  {
   "cell_type": "code",
   "execution_count": 2,
   "metadata": {},
   "outputs": [],
   "source": [
    "# keep output cells from shifting to autoscroll: little scrolling\n",
    "# subwindows within the notebook are an annoyance..."
   ]
  },
  {
   "cell_type": "code",
   "execution_count": 3,
   "metadata": {},
   "outputs": [],
   "source": [
    "# set up the environment by reading in every library we might need: \n",
    "# os... graphics... data manipulation... time... math... statistics...\n",
    "\n",
    "import sys\n",
    "import os\n",
    "from urllib.request import urlretrieve\n",
    "\n",
    "import matplotlib as mpl\n",
    "import matplotlib.pyplot as plt\n",
    "from IPython.display import Image\n",
    "\n",
    "import pandas as pd\n",
    "from pandas import DataFrame, Series\n",
    "from datetime import datetime\n",
    "\n",
    "import scipy as sp\n",
    "import numpy as np\n",
    "import math\n",
    "import random\n",
    "\n",
    "import seaborn as sns\n",
    "import statsmodels\n",
    "import statsmodels.api as sm\n",
    "import statsmodels.formula.api as smf\n",
    "\n",
    "# graphics setup: seaborn-whitegrid and figure size;\n",
    "# graphs in the notebook itself...\n",
    "\n",
    "%matplotlib inline \n",
    "\n",
    "plt.style.use('seaborn-whitegrid')\n",
    "\n",
    "figure_size = plt.rcParams[\"figure.figsize\"]\n",
    "figure_size[0] = 12\n",
    "figure_size[1] = 10\n",
    "plt.rcParams[\"figure.figsize\"] = figure_size"
   ]
  },
  {
   "cell_type": "code",
   "execution_count": 4,
   "metadata": {},
   "outputs": [
    {
     "name": "stdout",
     "output_type": "stream",
     "text": [
      "Requirement already up-to-date: okpy in /anaconda3/lib/python3.6/site-packages (1.13.11)\n",
      "Requirement not upgraded as not directly required: coverage==3.7.1 in /anaconda3/lib/python3.6/site-packages (from okpy) (3.7.1)\n",
      "Requirement not upgraded as not directly required: requests==2.12.4 in /anaconda3/lib/python3.6/site-packages (from okpy) (2.12.4)\n",
      "\u001b[31mdistributed 1.21.8 requires msgpack, which is not installed.\u001b[0m\n",
      "\u001b[33mYou are using pip version 10.0.1, however version 18.0 is available.\n",
      "You should consider upgrading via the 'pip install --upgrade pip' command.\u001b[0m\n",
      "=====================================================================\n",
      "Assignment: PS4 Notebook\n",
      "OK, version v1.13.11\n",
      "=====================================================================\n",
      "\n",
      "\n",
      "Open the following URL:\n",
      "\n",
      "https://okpy.org/client/login/\n",
      "\n",
      "After logging in, copy the code from the web page and paste it into the box.\n",
      "Then press the \"Enter\" key on your keyboard.\n",
      "\n",
      "Paste your code here: OCkRFv38Uhlmo50y9eEquFTgHQM6S7\n",
      "Successfully logged in as jbdelong@berkeley.edu\n"
     ]
    }
   ],
   "source": [
    "# Don't change this cell; just run it. \n",
    "# The result will give you directions about how to log in to the submission system, called OK.\n",
    "# Once you're logged in, you can run this cell again, but it won't ask you who you are because\n",
    "# it remembers you. However, you will need to log in once per assignment.\n",
    "\n",
    "!pip install -U okpy\n",
    "\n",
    "from client.api.notebook import Notebook\n",
    "\n",
    "ok = Notebook('ps4.ok')\n",
    "_ = ok.auth(force=True, inline=True)"
   ]
  },
  {
   "cell_type": "markdown",
   "metadata": {},
   "source": [
    "### ⬆︎⬆︎⬆︎⬆︎⬆︎⬆︎⬆︎⬆︎⬆︎⬆︎⬆︎⬆︎⬆︎⬆︎⬆︎⬆︎\n",
    "### RUN THESE CELLS ABOVE FIRST"
   ]
  },
  {
   "cell_type": "markdown",
   "metadata": {},
   "source": [
    "**Task 1: Using information sources**:\n",
    "\n",
    "1. Websurf your way over to https://gapminder.org/tools\n",
    "2. Choose a non-U.S. country of interest to you. Select it and the U.S. by clicking on the checkboxes in the country list that should be visible.\n",
    "3. Pull the slider to the right of the \"play\" button all the way back to the left.\n",
    "4. Press the \"play\" button and watch the two countries—the one you selected, and the U.S.—make tracks over the past.\n",
    "5. Take a screenshot of the resulting figure when the animation has finished.\n",
    "6. Upload that screenshot to a URL somewhere on the net.\n",
    "7. Display that screenshot in the markdown cell below using an &lt;img src=\"\" /&gt; tag\n",
    "8. Write a paragraph: What do you learn about economic growth roughly since the Industrial Revolution from the figure you have screenshotted?"
   ]
  },
  {
   "cell_type": "markdown",
   "metadata": {},
   "source": [
    "<font color=\"blue\">PASTE IMG TAG HERE: ___  </font>"
   ]
  },
  {
   "cell_type": "markdown",
   "metadata": {},
   "source": [
    "<font color=\"blue\">WHAT DID YOU LEARN? ANSWER: ___ </font>"
   ]
  },
  {
   "cell_type": "markdown",
   "metadata": {},
   "source": [
    "----"
   ]
  },
  {
   "cell_type": "markdown",
   "metadata": {},
   "source": [
    "**Task 2: Reversals of Fortune**:\n",
    "\n",
    "This problem requires you to edit the second Python code cell below. The first cell downloads data and plots Argentinean and Swedish levels of GDP per capita since 1890. Run this first cell. There is no need to change it. Then...\n"
   ]
  },
  {
   "cell_type": "code",
   "execution_count": 5,
   "metadata": {},
   "outputs": [
    {
     "data": {
      "text/plain": [
       "Text(0.5,1,'Swedish and Argentinian Economic Growth since 1890')"
      ]
     },
     "execution_count": 5,
     "metadata": {},
     "output_type": "execute_result"
    },
    {
     "data": {
      "image/png": "[encoded data removed]",
      "text/plain": [
       "<Figure size 432x288 with 1 Axes>"
      ]
     },
     "metadata": {},
     "output_type": "display_data"
    }
   ],
   "source": [
    "# time series for measured real national product per capita for \n",
    "# Sweden and Argentina since 1890, plus source notes, accessible \n",
    "# in the argentina_sweden_dict object for later use, if needed...\n",
    "\n",
    "import matplotlib as mpl\n",
    "import matplotlib.pyplot as plt\n",
    "from IPython.display import Image\n",
    "\n",
    "import pandas as pd\n",
    "\n",
    "sourceURL = \"http://delong.typepad.com/2017-08-11-argentina-and-sweden-gdp-per-capita-1890-2015-from-gapminder.org.csv\"\n",
    "argentina_sweden_df = pd.read_csv(sourceURL, index_col = 0)\n",
    "\n",
    "argentina_sweden_dict = {}\n",
    "argentina_sweden_dict[\"df\"] = argentina_sweden_df\n",
    "argentina_sweden_dict[\"sourceURL\"] = sourceURL\n",
    "argentina_sweden_dict[\"sourceDescription\"] = \"Hans Rosling's Gapminder: http://gapminder.org\"   \n",
    "argentina_sweden_dict[\"sourceNotes\"] = \"From Gapminder World data page: http://www.gapminder.org/data/\"\n",
    "\n",
    "argentina_sweden_dict[\"df\"].plot()\n",
    "\n",
    "plt.ylim(0, )\n",
    "plt.xlabel(\"Year\", size = 15)\n",
    "plt.ylabel(\"Real GDP per Capita\", size = 15)\n",
    "plt.title(\"Swedish and Argentinian Economic Growth since 1890\", size = 30)"
   ]
  },
  {
   "cell_type": "markdown",
   "metadata": {},
   "source": [
    "Then..."
   ]
  },
  {
   "cell_type": "markdown",
   "metadata": {},
   "source": [
    "2.1: Calculate the year that Sweden surpasses Argentina in GDP per capita. Write code to set the variable Sweden_surpasses equal to that year in the code cell below:"
   ]
  },
  {
   "cell_type": "code",
   "execution_count": null,
   "metadata": {},
   "outputs": [],
   "source": [
    "Sweden_surpasses = ___"
   ]
  },
  {
   "cell_type": "code",
   "execution_count": 9,
   "metadata": {},
   "outputs": [
    {
     "name": "stdout",
     "output_type": "stream",
     "text": [
      "      Argentina  Sweden\n",
      "Year                   \n",
      "1930       7439    7317\n",
      "1931       6709    7142\n",
      "1932       6293    6875\n",
      "1933       6402    7000\n",
      "1934       6715    7465\n",
      "1935       6810    7821\n",
      "1936       6689    8092\n",
      "1937       6997    8305\n",
      "1938       6839    8573\n",
      "1939       6923    9199\n",
      "1940       6859    8517\n",
      "1941       7042    8278\n",
      "1942       6943    8340\n",
      "1943       6724    8598\n",
      "1944       7309    8840\n",
      "1945       6898    9088\n",
      "1946       7289    9985\n",
      "1947       7862   10787\n",
      "1948       8041   10925\n",
      "1949       7687   11278\n",
      "1950       7540   11977\n",
      "1951       7612   11890\n",
      "1952       7019   12133\n",
      "1953       7198   12221\n",
      "1954       7305   12896\n",
      "1955       7631   13177\n",
      "1956       7652   13642\n",
      "1957       7863   13956\n",
      "1958       8157   14031\n",
      "1959       7449   14598\n",
      "...         ...     ...\n",
      "1986       9810   29138\n",
      "1987       9936   29889\n",
      "1988       9620   30596\n",
      "1989       8820   31161\n",
      "1990       8539   30901\n",
      "1991       9333   30340\n",
      "1992      10130   29813\n",
      "1993      10602   29028\n",
      "1994      11108   30000\n",
      "1995      10673   31044\n",
      "1996      11150   31465\n",
      "1997      11935   32360\n",
      "1998      12268   33709\n",
      "1999      11722   35208\n",
      "2000      11504   36816\n",
      "2001      10875   37292\n",
      "2002       9574   37941\n",
      "2003      10318   38702\n",
      "2004      11135   40216\n",
      "2005      12039   41184\n",
      "2006      12913   42873\n",
      "2007      13873   44005\n",
      "2008      14646   43421\n",
      "2009      14605   40820\n",
      "2010      15765   42898\n",
      "2011      16972   43709\n",
      "2012      17101   43263\n",
      "2013      17629   43448\n",
      "2014      17519   44029\n",
      "2015      17344   44892\n",
      "\n",
      "[86 rows x 2 columns]\n"
     ]
    }
   ],
   "source": [
    "# ANSWER\n",
    "\n",
    "print(argentina_sweden_dict[\"df\"][40:])\n",
    "\n",
    "Sweden_surpasses = 1931"
   ]
  },
  {
   "cell_type": "code",
   "execution_count": 10,
   "metadata": {},
   "outputs": [
    {
     "name": "stdout",
     "output_type": "stream",
     "text": [
      "~~~~~~~~~~~~~~~~~~~~~~~~~~~~~~~~~~~~~~~~~~~~~~~~~~~~~~~~~~~~~~~~~~~~~\n",
      "Running tests\n",
      "\n",
      "---------------------------------------------------------------------\n",
      "Test summary\n",
      "    Passed: 1\n",
      "    Failed: 0\n",
      "[ooooooooook] 100.0% passed\n",
      "\n"
     ]
    },
    {
     "data": {
      "text/plain": [
       "{'passed': 1, 'failed': 0, 'locked': 0}"
      ]
     },
     "execution_count": 10,
     "metadata": {},
     "output_type": "execute_result"
    }
   ],
   "source": [
    "ok.grade('q01')"
   ]
  },
  {
   "cell_type": "markdown",
   "metadata": {},
   "source": [
    "2.2: Calculate the growth rates of Swedish and Argentinean GDP per capita, and their difference, over the periods 1890-1914, 1914-1946, 1946-1980, and 1980-2002. Write code to set the appropriate variables equal to the values in the code cell below:"
   ]
  },
  {
   "cell_type": "code",
   "execution_count": null,
   "metadata": {},
   "outputs": [],
   "source": [
    "Swedish_Growth18901914 = ___\n",
    "Swedish_Growth19141946 = ___\n",
    "Swedish_Growth19461980 = ___\n",
    "Swedish_Growth19802002 = ___\n",
    "\n",
    "Argentinean_Growth18901914 = ___\n",
    "Argentinean_Growth19141946 = ___\n",
    "Argentinean_Growth19461980 = ___\n",
    "Argentinean_Growth19802002 = ___\n",
    "\n",
    "Difference_Growth18901914 = ___\n",
    "Difference_Growth19141946 = ___\n",
    "Difference_Growth19461980 = ___\n",
    "Difference_Growth19802002 = ___\n"
   ]
  },
  {
   "cell_type": "code",
   "execution_count": 22,
   "metadata": {},
   "outputs": [],
   "source": [
    "Swedish_Growth18901914 = (np.log(argentina_sweden_dict[\"df\"][\"Sweden\"][1914]/\n",
    "       argentina_sweden_dict[\"df\"][\"Sweden\"][1890])/\n",
    "       (1914-1890))\n",
    "\n",
    "Swedish_Growth19141946 = (np.log(argentina_sweden_dict[\"df\"][\"Sweden\"][1946]/\n",
    "       argentina_sweden_dict[\"df\"][\"Sweden\"][1914])/\n",
    "       (1946-1914))\n",
    "\n",
    "Swedish_Growth19461980 = (np.log(argentina_sweden_dict[\"df\"][\"Sweden\"][1980]/\n",
    "       argentina_sweden_dict[\"df\"][\"Sweden\"][1946])/\n",
    "       (1980-1946))\n",
    "\n",
    "Swedish_Growth19802002 = (np.log(argentina_sweden_dict[\"df\"][\"Sweden\"][2002]/\n",
    "       argentina_sweden_dict[\"df\"][\"Sweden\"][1980])/\n",
    "       (2002-1980))\n",
    "\n",
    "Argentinean_Growth18901914 = (np.log(argentina_sweden_dict[\"df\"][\"Argentina\"][1914]/\n",
    "       argentina_sweden_dict[\"df\"][\"Argentina\"][1890])/\n",
    "       (1914-1890))\n",
    "\n",
    "Argentinean_Growth19141946 = (np.log(argentina_sweden_dict[\"df\"][\"Argentina\"][1946]/\n",
    "       argentina_sweden_dict[\"df\"][\"Argentina\"][1914])/\n",
    "       (1946-1914))\n",
    "\n",
    "Argentinean_Growth19461980 = (np.log(argentina_sweden_dict[\"df\"][\"Argentina\"][1980]/\n",
    "       argentina_sweden_dict[\"df\"][\"Argentina\"][1946])/\n",
    "       (1980-1946))\n",
    "\n",
    "Argentinean_Growth19802002 = (np.log(argentina_sweden_dict[\"df\"][\"Argentina\"][2002]/\n",
    "       argentina_sweden_dict[\"df\"][\"Argentina\"][1980])/\n",
    "       (2002-1980))\n",
    "\n",
    "Difference_Growth18901914 = (np.log(argentina_sweden_dict[\"df\"][\"Sweden\"][1914]/\n",
    "       argentina_sweden_dict[\"df\"][\"Sweden\"][1890])/\n",
    "       (1914-1890))/(np.log(argentina_sweden_dict[\"df\"][\"Argentina\"][1914]/\n",
    "       argentina_sweden_dict[\"df\"][\"Argentina\"][1890])/\n",
    "       (1914-1890))\n",
    "\n",
    "Difference_Growth19141946 = (np.log(argentina_sweden_dict[\"df\"][\"Sweden\"][1946]/\n",
    "       argentina_sweden_dict[\"df\"][\"Sweden\"][1914])/\n",
    "       (1946-1914))/(np.log(argentina_sweden_dict[\"df\"][\"Argentina\"][1946]/\n",
    "       argentina_sweden_dict[\"df\"][\"Argentina\"][1914])/\n",
    "       (1946-1914))\n",
    "\n",
    "Difference_Growth19461980 = (np.log(argentina_sweden_dict[\"df\"][\"Sweden\"][1980]/\n",
    "       argentina_sweden_dict[\"df\"][\"Sweden\"][1946])/\n",
    "       (1980-1946))/(np.log(argentina_sweden_dict[\"df\"][\"Argentina\"][1980]/\n",
    "       argentina_sweden_dict[\"df\"][\"Argentina\"][1946])/\n",
    "       (1980-1946))\n",
    "\n",
    "Difference_Growth19802002 = (np.log(argentina_sweden_dict[\"df\"][\"Sweden\"][2002]/\n",
    "       argentina_sweden_dict[\"df\"][\"Sweden\"][1980])/\n",
    "       (2002-1980))/(np.log(argentina_sweden_dict[\"df\"][\"Argentina\"][1914]/\n",
    "       argentina_sweden_dict[\"df\"][\"Argentina\"][1890])/\n",
    "       (1914-1890))\n"
   ]
  },
  {
   "cell_type": "markdown",
   "metadata": {},
   "source": [
    "2.3: Calculate the multiple that Swedish GDP per capita in 2015 is of its level in 1890, the multiple that Argentinean GDP per capita in 2015 is of its level in 1890, and the multiple that the quotient is. Write code to set the appropriate variables equal to the values in the code cell below:"
   ]
  },
  {
   "cell_type": "code",
   "execution_count": null,
   "metadata": {},
   "outputs": [],
   "source": [
    "Sweden_multiple18902015 = ___\n",
    "\n",
    "Argentina_multiple18902015 = ___\n",
    "\n",
    "Quotient_multiple18902015 = ___"
   ]
  },
  {
   "cell_type": "code",
   "execution_count": 34,
   "metadata": {},
   "outputs": [],
   "source": [
    "Sweden_multiple18902015 = (np.log(argentina_sweden_dict[\"df\"][\"Sweden\"][2015]/\n",
    "                              argentina_sweden_dict[\"df\"][\"Sweden\"][2015]))\n",
    "\n",
    "Argentina_multiple18902015 = (np.log(argentina_sweden_dict[\"df\"][\"Argentina\"][2015]/\n",
    "                                  argentina_sweden_dict[\"df\"][\"Argentina\"][1890]))\n",
    "\n",
    "Quotient_multiple18902015 = Sweden_multiple18902015/Argentina_multiple18902015"
   ]
  },
  {
   "cell_type": "markdown",
   "metadata": {},
   "source": [
    "----"
   ]
  },
  {
   "cell_type": "markdown",
   "metadata": {},
   "source": [
    "**Task 3: The basics of the Solow growth model**:\n",
    "\n",
    "In the (markdown) cell below this one, answer the questions asked:\n",
    "\n",
    "1. What are the _economic variables_ in the Solow growth model? List their symbols, and describe what they are: ANSWER\n",
    "\n",
    "2. What are the _parameters_ in the Solow growth model? List their symbols, and describe what they are:\n",
    "\n",
    "3. What are the _behavioral relationships_ in the Solow growth model?\n",
    "\n",
    "4. What is the _equilibrium condition_ in the Solow growth model?"
   ]
  },
  {
   "cell_type": "markdown",
   "metadata": {},
   "source": [
    "1. What are the _economic variables_ in the Solow growth model? List their symbols, and describe what they are: <font color='blue'>ANSWER: ___ </font>\n",
    "\n",
    "2. What are the _parameters_ in the Solow growth model? List their symbols, and describe what they are: <font color='blue'>ANSWER: ___ </font>\n",
    "\n",
    "3. What are the _behavioral relationships_ in the Solow growth model? <font color='blue'>ANSWER: ___ </font>\n",
    "\n",
    "4. What is the _equilibrium condition_ in the Solow growth model? <font color='blue'>ANSWER: ___ </font>"
   ]
  },
  {
   "cell_type": "markdown",
   "metadata": {},
   "source": [
    "----\n",
    "\n",
    "&nbsp;"
   ]
  },
  {
   "cell_type": "markdown",
   "metadata": {},
   "source": [
    "**Task 4: Equilibrium Output per Worker Graphically**\n",
    "\n",
    "The code cell immediately below contains a small program to plot the balanced-growth path output per worker and capital per worker levels graphically for values of the parameters n, g, δ, α, and s, and for the current level of the efficiency of labor E. It is set to calculate for n = 0, g= 0, δ = .03, α = 0.5, s = 0.15, and E = 1.\n",
    "\n",
    "Alter the inputs to the cell above the line of \"# ----\" and rerun the cell multiple times, or use some other means of your choosing, to set the variables in the further cells below:"
   ]
  },
  {
   "cell_type": "code",
   "execution_count": 35,
   "metadata": {},
   "outputs": [
    {
     "data": {
      "text/plain": [
       "Text(0.5,1,'Balanced Growth Equilibrium Is Where the Curves Cross')"
      ]
     },
     "execution_count": 35,
     "metadata": {},
     "output_type": "execute_result"
    },
    {
     "data": {
      "image/png": "[encoded data removed]",
      "text/plain": [
       "<Figure size 432x288 with 1 Axes>"
      ]
     },
     "metadata": {},
     "output_type": "display_data"
    }
   ],
   "source": [
    "delta = 0.03\n",
    "n = 0\n",
    "g = 0\n",
    "s = 0.15\n",
    "alpha = 0.5\n",
    "E = 1\n",
    "lowestKoverLconsidered = 0\n",
    "\n",
    "#----\n",
    "\n",
    "array = np.zeros((201, 3))\n",
    "\n",
    "for i in range(201):\n",
    "    array[i, 0] = lowestKoverLconsidered + i/4\n",
    "    array[i, 1] = (array[i, 0] \n",
    "        ** alpha) * E**(1 - alpha)\n",
    "    array[i, 2] = ((delta + n + g)/s * array[i, 0] )\n",
    "\n",
    "capital_and_output_per_worker_df = DataFrame(data = \n",
    "    array, columns = [\"Capital_per_Worker\", \"Output_per_Worker\", \n",
    "    \"Equilibrium Condition\"])\n",
    "\n",
    "capital_and_output_per_worker_df.set_index('Capital_per_Worker').plot()\n",
    "\n",
    "plt.xlabel(\"Capital per Worker\")\n",
    "plt.ylabel(\"Output per Worker\")\n",
    "plt.ylim(0, )\n",
    "plt.title(\"Balanced Growth Equilibrium Is Where the Curves Cross\", size = 20)"
   ]
  },
  {
   "cell_type": "code",
   "execution_count": null,
   "metadata": {},
   "outputs": [],
   "source": [
    "# 4.1 For n = 0, g= 0, δ = .03, α = 0.5, \n",
    "# s = 0.15, and E = 1.\n",
    "\n",
    "YoverL41 = ___\n",
    "KoverL41 = ___"
   ]
  },
  {
   "cell_type": "code",
   "execution_count": null,
   "metadata": {},
   "outputs": [],
   "source": [
    "ok.grade('q02')"
   ]
  },
  {
   "cell_type": "code",
   "execution_count": null,
   "metadata": {},
   "outputs": [],
   "source": [
    "# 4.2 For n = 0.01, g = 0.01, δ = .03, α = 0.3333, \n",
    "# s = 0.25, and E = 2.\n",
    "\n",
    "YoverL42 = ___\n",
    "KoverL42 = ___"
   ]
  },
  {
   "cell_type": "code",
   "execution_count": null,
   "metadata": {},
   "outputs": [],
   "source": [
    "# 4.3 For n = 0.01, g= 0.02, δ = .03, α = 0.3333, \n",
    "# s = 0.36, and E = 1.\n",
    "\n",
    "YoverL43 = ___\n",
    "KoverL43 = ___"
   ]
  },
  {
   "cell_type": "code",
   "execution_count": null,
   "metadata": {},
   "outputs": [],
   "source": [
    "# 4.4 For n = .01, g= 0.02, δ = .03, α = 0.4, \n",
    "# s = 0.50, and E = 1.\n",
    "\n",
    "YoverL44 = ___\n",
    "KoverL44 = ___"
   ]
  },
  {
   "cell_type": "code",
   "execution_count": null,
   "metadata": {},
   "outputs": [],
   "source": [
    "# 4.5 For n = .01, g= 0.02, δ = .03, α = 0.2, \n",
    "# s = 0.50, and E = 1.\n",
    "\n",
    "YoverL45 = ___\n",
    "KoverL45 = ___"
   ]
  },
  {
   "cell_type": "code",
   "execution_count": null,
   "metadata": {},
   "outputs": [],
   "source": [
    "# 4.6 For n = .01, g= 0.015, δ = .025, α = 0.33333, \n",
    "# s = 0.50, and E = 1\n",
    "\n",
    "YoverL46 = ___\n",
    "KoverL46 = ___"
   ]
  },
  {
   "cell_type": "code",
   "execution_count": null,
   "metadata": {},
   "outputs": [],
   "source": [
    "# 4.7 For n = .01, g= 0.015, δ = .025, α = 0.9, \n",
    "# s = 0.125, and E = 0.5\n",
    "\n",
    "YoverL47 = ___\n",
    "KoverL47 = ___"
   ]
  },
  {
   "cell_type": "code",
   "execution_count": null,
   "metadata": {},
   "outputs": [],
   "source": [
    "# 4.8 For n = .01, g= 0.015, δ = .035, α = 0.75, \n",
    "# s = 0.25, and E = 0.5\n",
    "\n",
    "YoverL48 = ___\n",
    "KoverL48 = ___"
   ]
  },
  {
   "cell_type": "code",
   "execution_count": null,
   "metadata": {},
   "outputs": [],
   "source": [
    "# 4.9 For n = .01, g= 0.015, δ = .025, α = 0.5, \n",
    "# s = 0.5, and E = 0.5\n",
    "\n",
    "YoverL49 = ___\n",
    "KoverL49 = ___"
   ]
  },
  {
   "cell_type": "markdown",
   "metadata": {},
   "source": [
    "----\n",
    "\n",
    "&nbsp;"
   ]
  },
  {
   "cell_type": "code",
   "execution_count": null,
   "metadata": {},
   "outputs": [],
   "source": [
    "_ = ok.submit()"
   ]
  }
 ],
 "metadata": {
  "kernelspec": {
   "display_name": "Python 3",
   "language": "python",
   "name": "python3"
  },
  "language_info": {
   "codemirror_mode": {
    "name": "ipython",
    "version": 3
   },
   "file_extension": ".py",
   "mimetype": "text/x-python",
   "name": "python",
   "nbconvert_exporter": "python",
   "pygments_lexer": "ipython3",
   "version": "3.6.5"
  }
 },
 "nbformat": 4,
 "nbformat_minor": 2
}
