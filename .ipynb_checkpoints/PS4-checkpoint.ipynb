{
 "cells": [
  {
   "cell_type": "markdown",
   "metadata": {
    "slideshow": {
     "slide_type": "notes"
    }
   },
   "source": [
    "# Econ 101b (Fall 2018) Problem Set 4"
   ]
  },
  {
   "cell_type": "markdown",
   "metadata": {},
   "source": [
    "### Problem set will be due Fri Sep 14 at midnight...\n",
    "\n",
    "#### Sections between Tu AM & Th AM lecture will be problem set section..."
   ]
  },
  {
   "cell_type": "markdown",
   "metadata": {},
   "source": [
    "## Setting up the Python/Jupyter environment"
   ]
  },
  {
   "cell_type": "code",
   "execution_count": null,
   "metadata": {},
   "outputs": [],
   "source": [
    "%%javascript\n",
    "\n",
    "IPython.OutputArea.prototype._should_scroll = function(lines) {\n",
    "    return false;}"
   ]
  },
  {
   "cell_type": "code",
   "execution_count": null,
   "metadata": {},
   "outputs": [],
   "source": [
    "# keep output cells from shifting to autoscroll: little scrolling\n",
    "# subwindows within the notebook are an annoyance..."
   ]
  },
  {
   "cell_type": "code",
   "execution_count": null,
   "metadata": {},
   "outputs": [],
   "source": [
    "# set up the environment by reading in every library we might need: \n",
    "# os... graphics... data manipulation... time... math... statistics...\n",
    "\n",
    "import sys\n",
    "import os\n",
    "from urllib.request import urlretrieve\n",
    "\n",
    "import matplotlib as mpl\n",
    "import matplotlib.pyplot as plt\n",
    "from IPython.display import Image\n",
    "\n",
    "import pandas as pd\n",
    "from pandas import DataFrame, Series\n",
    "from datetime import datetime\n",
    "\n",
    "import scipy as sp\n",
    "import numpy as np\n",
    "import math\n",
    "import random\n",
    "\n",
    "import seaborn as sns\n",
    "import statsmodels\n",
    "import statsmodels.api as sm\n",
    "import statsmodels.formula.api as smf\n",
    "\n",
    "# graphics setup: seaborn-whitegrid and figure size;\n",
    "# graphs in the notebook itself...\n",
    "\n",
    "%matplotlib inline \n",
    "\n",
    "plt.style.use('seaborn-whitegrid')\n",
    "\n",
    "figure_size = plt.rcParams[\"figure.figsize\"]\n",
    "figure_size[0] = 12\n",
    "figure_size[1] = 10\n",
    "plt.rcParams[\"figure.figsize\"] = figure_size"
   ]
  },
  {
   "cell_type": "code",
   "execution_count": null,
   "metadata": {},
   "outputs": [],
   "source": [
    "# Don't change this cell; just run it. \n",
    "# The result will give you directions about how to log in to the submission system, called OK.\n",
    "# Once you're logged in, you can run this cell again, but it won't ask you who you are because\n",
    "# it remembers you. However, you will need to log in once per assignment.\n",
    "\n",
    "!pip install -U okpy\n",
    "\n",
    "from client.api.notebook import Notebook\n",
    "\n",
    "ok = Notebook('ps4.ok')\n",
    "_ = ok.auth(force=True, inline=True)"
   ]
  },
  {
   "cell_type": "markdown",
   "metadata": {},
   "source": [
    "### ⬆︎⬆︎⬆︎⬆︎⬆︎⬆︎⬆︎⬆︎⬆︎⬆︎⬆︎⬆︎⬆︎⬆︎⬆︎⬆︎\n",
    "### RUN THESE CELLS ABOVE FIRST"
   ]
  },
  {
   "cell_type": "markdown",
   "metadata": {},
   "source": [
    "**Task 1: Using information sources**:\n",
    "\n",
    "1. Websurf your way over to https://gapminder.org/tools (if you do not see a list of countries, expand your window)\n",
    "2. Choose a non-U.S. country of interest to you. Select it and the U.S. by clicking on the checkboxes in the country list that should be visible.\n",
    "3. Pull the slider to the right of the \"play\" button all the way back to the left.\n",
    "4. Press the \"play\" button and watch the two countries—the one you selected, and the U.S.—make tracks over the past.\n",
    "5. Take a screenshot of the resulting figure when the animation has finished.\n",
    "6. Upload that screenshot to a URL somewhere on the net.\n",
    "7. Display that screenshot in the markdown cell below using an &lt;img src=\"\" /&gt; tag\n",
    "8. Write a paragraph: What do you learn about economic growth roughly since the Industrial Revolution from the figure you have screenshotted?"
   ]
  },
  {
   "cell_type": "markdown",
   "metadata": {},
   "source": [
    "<font color=\"blue\">PASTE IMG TAG HERE: ___  </font>"
   ]
  },
  {
   "cell_type": "markdown",
   "metadata": {},
   "source": [
    "<font color=\"blue\">WHAT DID YOU LEARN? ANSWER: ___ </font>"
   ]
  },
  {
   "cell_type": "markdown",
   "metadata": {},
   "source": [
    "----"
   ]
  },
  {
   "cell_type": "markdown",
   "metadata": {},
   "source": [
    "**Task 2: Reversals of Fortune**:\n",
    "\n",
    "This problem requires you to edit the second Python code cell below. The first cell downloads data and plots Argentinean and Swedish levels of GDP per capita since 1890. Run this first cell. There is no need to change it. Then...\n"
   ]
  },
  {
   "cell_type": "code",
   "execution_count": null,
   "metadata": {},
   "outputs": [],
   "source": [
    "# time series for measured real national product per capita for \n",
    "# Sweden and Argentina since 1890, plus source notes, accessible \n",
    "# in the argentina_sweden_dict object for later use, if needed...\n",
    "\n",
    "import matplotlib as mpl\n",
    "import matplotlib.pyplot as plt\n",
    "from IPython.display import Image\n",
    "\n",
    "import pandas as pd\n",
    "\n",
    "sourceURL = \"http://delong.typepad.com/2017-08-11-argentina-and-sweden-gdp-per-capita-1890-2015-from-gapminder.org.csv\"\n",
    "argentina_sweden_df = pd.read_csv(sourceURL, index_col = 0)\n",
    "\n",
    "argentina_sweden_dict = {}\n",
    "argentina_sweden_dict[\"df\"] = argentina_sweden_df\n",
    "argentina_sweden_dict[\"sourceURL\"] = sourceURL\n",
    "argentina_sweden_dict[\"sourceDescription\"] = \"Hans Rosling's Gapminder: http://gapminder.org\"   \n",
    "argentina_sweden_dict[\"sourceNotes\"] = \"From Gapminder World data page: http://www.gapminder.org/data/\"\n",
    "\n",
    "argentina_sweden_dict[\"df\"].plot()\n",
    "\n",
    "plt.ylim(0, )\n",
    "plt.xlabel(\"Year\", size = 15)\n",
    "plt.ylabel(\"Real GDP per Capita\", size = 15)\n",
    "plt.title(\"Swedish and Argentinian Economic Growth since 1890\", size = 30)"
   ]
  },
  {
   "cell_type": "markdown",
   "metadata": {},
   "source": [
    "Then..."
   ]
  },
  {
   "cell_type": "markdown",
   "metadata": {},
   "source": [
    "2.1: Calculate the year that Sweden surpasses Argentina in GDP per capita. Write code to set the variable Sweden_surpasses equal to that year in the code cell below:"
   ]
  },
  {
   "cell_type": "code",
   "execution_count": null,
   "metadata": {},
   "outputs": [],
   "source": [
    "Sweden_surpasses = ___"
   ]
  },
  {
   "cell_type": "code",
   "execution_count": null,
   "metadata": {},
   "outputs": [],
   "source": [
    "ok.grade('q01')"
   ]
  },
  {
   "cell_type": "markdown",
   "metadata": {},
   "source": [
    "2.2: Calculate the growth rates of Swedish and Argentinean GDP per capita, and their difference, over the periods 1890-1914, 1914-1946, 1946-1980, and 1980-2002. Write code to set the appropriate variables equal to the values in the code cell below:"
   ]
  },
  {
   "cell_type": "code",
   "execution_count": null,
   "metadata": {},
   "outputs": [],
   "source": [
    "Swedish_Growth18901914 = ___\n",
    "Swedish_Growth19141946 = ___\n",
    "Swedish_Growth19461980 = ___\n",
    "Swedish_Growth19802002 = ___\n",
    "\n",
    "Argentinean_Growth18901914 = ___\n",
    "Argentinean_Growth19141946 = ___\n",
    "Argentinean_Growth19461980 = ___\n",
    "Argentinean_Growth19802002 = ___\n",
    "\n",
    "Difference_Growth18901914 = ___\n",
    "Difference_Growth19141946 = ___\n",
    "Difference_Growth19461980 = ___\n",
    "Difference_Growth19802002 = ___\n"
   ]
  },
  {
   "cell_type": "markdown",
   "metadata": {},
   "source": [
    "2.3: Calculate the multiple that Swedish GDP per capita in 2015 is of its level in 1890, the multiple that Argentinean GDP per capita in 2015 is of its level in 1890, and the multiple that the quotient is. Write code to set the appropriate variables equal to the values in the code cell below:"
   ]
  },
  {
   "cell_type": "code",
   "execution_count": null,
   "metadata": {},
   "outputs": [],
   "source": [
    "Sweden_multiple18902015 = ___\n",
    "\n",
    "Argentina_multiple18902015 = ___\n",
    "\n",
    "Quotient_multiple18902015 = ___"
   ]
  },
  {
   "cell_type": "markdown",
   "metadata": {},
   "source": [
    "----"
   ]
  },
  {
   "cell_type": "markdown",
   "metadata": {},
   "source": [
    "**Task 3: The basics of the Solow growth model**:\n",
    "\n",
    "In the (markdown) cell below this one, answer the questions asked:\n",
    "\n",
    "1. What are the _economic variables_ in the Solow growth model? List their symbols, and describe what they are: ANSWER\n",
    "\n",
    "2. What are the _parameters_ in the Solow growth model? List their symbols, and describe what they are:\n",
    "\n",
    "3. What are the _behavioral relationships_ in the Solow growth model?\n",
    "\n",
    "4. What is the _equilibrium condition_ in the Solow growth model?"
   ]
  },
  {
   "cell_type": "markdown",
   "metadata": {},
   "source": [
    "1. What are the _economic variables_ in the Solow growth model? List their symbols, and describe what they are: <font color='blue'>ANSWER: ___ </font>\n",
    "\n",
    "2. What are the _parameters_ in the Solow growth model? List their symbols, and describe what they are: <font color='blue'>ANSWER: ___ </font>\n",
    "\n",
    "3. What are the _behavioral relationships_ in the Solow growth model? <font color='blue'>ANSWER: ___ </font>\n",
    "\n",
    "4. What is the _equilibrium condition_ in the Solow growth model? <font color='blue'>ANSWER: ___ </font>"
   ]
  },
  {
   "cell_type": "markdown",
   "metadata": {},
   "source": [
    "----\n",
    "\n",
    "&nbsp;"
   ]
  },
  {
   "cell_type": "markdown",
   "metadata": {},
   "source": [
    "**Task 4: Equilibrium Output per Worker Graphically**\n",
    "\n",
    "The economic equilibrium we look for in the Solow Growth Model is the so-called balanced-growth equilibrium growth path. Along it, the economy's capital-output ratio is constant as the other economic variables in the model grow. If the capital-output ratio is at its balanced-growth equilibrium path value, it will stay there. If the capital-output ratio is away from its balanced-growth equilibrium path value, it will head there.\n",
    "\n",
    "In terms of the labor-force growth rate n, the efficiency-of-labor growth rate g, the capital depreciation rate &delta;, the savings-investment share of output Y, and the production function parameter &alpha;, the balanced-growth path value of the capital-output ratio is:\n",
    "\n",
    "$ {\\left(\\frac{K}{Y}\\right)}^{*} = \\frac{s}{(n+g+\\delta)} $\n",
    "\n",
    "When the capital-output ratio is at that value, both the capital stock K and the level of output Y are growing at the same rate n+g.\n",
    "\n",
    "If you know that the economy is on its balanced-growth path, and if you know also the current value of the efficiency-of-labor E in the production function, you can then immediately calculate the economy's levels of output-per-worker Y/L and of capital-per-worker K/L.\n",
    "\n",
    "The code cell immediately below contains a small program to plot the balanced-growth path output per worker and capital per worker levels graphically for values of the parameters n, g, δ, α, and s, and for the current level of the efficiency of labor E. It is set to calculate for n = 0, g= 0, δ = .03, α = 0.5, s = 0.15, and E = 1.\n",
    "\n",
    "Alter the inputs to the cell above the line of \"# ----\" and rerun the cell multiple times, or use some other means of your choosing, to set the variables in the further cells below:"
   ]
  },
  {
   "cell_type": "code",
   "execution_count": null,
   "metadata": {},
   "outputs": [],
   "source": [
    "delta = 0.03\n",
    "n = 0\n",
    "g = 0\n",
    "s = 0.15\n",
    "alpha = 0.5\n",
    "E = 1\n",
    "lowestKoverLconsidered = 0\n",
    "\n",
    "#----\n",
    "\n",
    "array = np.zeros((201, 3))\n",
    "\n",
    "for i in range(201):\n",
    "    array[i, 0] = lowestKoverLconsidered + i/4\n",
    "    array[i, 1] = (array[i, 0] \n",
    "        ** alpha) * E**(1 - alpha)\n",
    "    array[i, 2] = ((delta + n + g)/s * array[i, 0] )\n",
    "\n",
    "capital_and_output_per_worker_df = DataFrame(data = \n",
    "    array, columns = [\"Capital_per_Worker\", \"Output_per_Worker\", \n",
    "    \"Equilibrium Condition\"])\n",
    "\n",
    "capital_and_output_per_worker_df.set_index('Capital_per_Worker').plot()\n",
    "\n",
    "plt.xlabel(\"Capital per Worker\")\n",
    "plt.ylabel(\"Output per Worker\")\n",
    "plt.ylim(0, )\n",
    "plt.title(\"Balanced Growth Equilibrium Is Where the Curves Cross\", size = 20)"
   ]
  },
  {
   "cell_type": "code",
   "execution_count": null,
   "metadata": {},
   "outputs": [],
   "source": [
    "# 4.1 For n = 0, g= 0, δ = .03, α = 0.5, \n",
    "# s = 0.15, and E = 1.\n",
    "\n",
    "YoverL41 = ___\n",
    "KoverL41 = ___"
   ]
  },
  {
   "cell_type": "code",
   "execution_count": null,
   "metadata": {},
   "outputs": [],
   "source": [
    "ok.grade('q02')"
   ]
  },
  {
   "cell_type": "code",
   "execution_count": null,
   "metadata": {},
   "outputs": [],
   "source": [
    "# 4.2 For n = 0.01, g = 0.01, δ = .03, α = 0.3333, \n",
    "# s = 0.25, and E = 2.\n",
    "\n",
    "YoverL42 = ___\n",
    "KoverL42 = ___"
   ]
  },
  {
   "cell_type": "code",
   "execution_count": null,
   "metadata": {},
   "outputs": [],
   "source": [
    "# 4.3 For n = 0.01, g= 0.02, δ = .03, α = 0.3333, \n",
    "# s = 0.36, and E = 1.\n",
    "\n",
    "YoverL43 = ___\n",
    "KoverL43 = ___"
   ]
  },
  {
   "cell_type": "code",
   "execution_count": null,
   "metadata": {},
   "outputs": [],
   "source": [
    "# 4.4 For n = .01, g= 0.02, δ = .03, α = 0.4, \n",
    "# s = 0.50, and E = 1.\n",
    "\n",
    "YoverL44 = ___\n",
    "KoverL44 = ___"
   ]
  },
  {
   "cell_type": "code",
   "execution_count": null,
   "metadata": {},
   "outputs": [],
   "source": [
    "# 4.5 For n = .01, g= 0.02, δ = .03, α = 0.2, \n",
    "# s = 0.50, and E = 1.\n",
    "\n",
    "YoverL45 = ___\n",
    "KoverL45 = ___"
   ]
  },
  {
   "cell_type": "code",
   "execution_count": null,
   "metadata": {},
   "outputs": [],
   "source": [
    "# 4.6 For n = .005, g= 0.015, δ = .03, α = 0.33333, \n",
    "# s = 0.50, and E = 1\n",
    "\n",
    "YoverL46 = ___\n",
    "KoverL46 = ___"
   ]
  },
  {
   "cell_type": "code",
   "execution_count": null,
   "metadata": {},
   "outputs": [],
   "source": [
    "# 4.7 For n = .005, g= 0.015, δ = .03, α = 0.75, \n",
    "# s = 0.125, and E = 0.5\n",
    "\n",
    "YoverL47 = ___\n",
    "KoverL47 = ___"
   ]
  },
  {
   "cell_type": "code",
   "execution_count": null,
   "metadata": {},
   "outputs": [],
   "source": [
    "# 4.8 For n = .015, g= 0.015, δ = .03, α = 0.75, \n",
    "# s = 0.25, and E = 0.1\n",
    "\n",
    "YoverL48 = ___\n",
    "KoverL48 = ___"
   ]
  },
  {
   "cell_type": "code",
   "execution_count": null,
   "metadata": {},
   "outputs": [],
   "source": [
    "# 4.9 For n = .015, g= 0.015, δ = .03, α = 0.5, \n",
    "# s = 0.5, and E = 0.5\n",
    "\n",
    "YoverL49 = ___\n",
    "KoverL49 = ___"
   ]
  },
  {
   "cell_type": "markdown",
   "metadata": {},
   "source": [
    "----\n",
    "\n",
    "&nbsp;"
   ]
  },
  {
   "cell_type": "code",
   "execution_count": null,
   "metadata": {},
   "outputs": [],
   "source": [
    "_ = ok.submit()"
   ]
  }
 ],
 "metadata": {
  "kernelspec": {
   "display_name": "Python 3",
   "language": "python",
   "name": "python3"
  },
  "language_info": {
   "codemirror_mode": {
    "name": "ipython",
    "version": 3
   },
   "file_extension": ".py",
   "mimetype": "text/x-python",
   "name": "python",
   "nbconvert_exporter": "python",
   "pygments_lexer": "ipython3",
   "version": "3.6.5"
  }
 },
 "nbformat": 4,
 "nbformat_minor": 2
}
